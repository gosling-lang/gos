{
 "cells": [
  {
   "cell_type": "code",
   "execution_count": null,
   "id": "c8988b10",
   "metadata": {},
   "outputs": [],
   "source": [
    "!pip install gosling\n",
    "import gosling as gos"
   ]
  },
  {
   "cell_type": "markdown",
   "id": "8bf62b5e",
   "metadata": {},
   "source": [
    "# Datasets"
   ]
  },
  {
   "cell_type": "code",
   "execution_count": null,
   "id": "252487de",
   "metadata": {},
   "outputs": [],
   "source": [
    "mv = gos.multivec(\n",
    "    url=\"https://server.gosling-lang.org/api/v1/tileset_info/?d=cistrome-multivec\",\n",
    "    row=\"sample\",\n",
    "    column=\"position\",\n",
    "    value=\"peak\",\n",
    "    categories=[\"sample 1\", \"sample 2\", \"sample 3\", \"sample 4\"],\n",
    "    binSize=2\n",
    ")\n",
    "\n",
    "sv = gos.csv(\n",
    "    url=\"https://raw.githubusercontent.com/sehilyi/gemini-datasets/master/data/rearrangements.bulk.1639.simple.filtered.pub\",\n",
    "    headerNames=[\"chr1\", \"p1s\", \"p1e\", \"chr2\", \"p2s\", \"p2e\", \"type\", \"id\", \"f1\", \"f2\", \"f3\", \"f4\", \"f5\", \"f6\"],\n",
    "    separator=\"\\t\",\n",
    "    genomicFieldsToConvert=[\n",
    "        {\"chromosomeField\": \"chr1\", \"genomicFields\": [\"p1s\", \"p1e\"]},\n",
    "        {\"chromosomeField\": \"chr2\", \"genomicFields\": [\"p2s\", \"p2e\"]}\n",
    "    ]\n",
    ")"
   ]
  },
  {
   "cell_type": "markdown",
   "id": "81c42e46",
   "metadata": {},
   "source": [
    "# Individual Tracks & Views"
   ]
  },
  {
   "cell_type": "code",
   "execution_count": null,
   "id": "8e125ba2",
   "metadata": {},
   "outputs": [],
   "source": [
    "bar_base = gos.Track(data=mv).mark_bar().encode(\n",
    "    x='start:G',\n",
    "    xe='end:G',\n",
    "    y='peak:Q',\n",
    "    color=gos.Color('sample:N', range=['steelblue', 'salmon', 'steelblue', 'salmon']),\n",
    "    stroke=gos.value('white'),\n",
    "    strokeWidth=gos.value(2),\n",
    ")\n",
    "\n",
    "bar_overview = gos.overlay(\n",
    "    bar_base,\n",
    "    bar_base.mark_brush().encode(x=gos.X(linkingId='detail-1')),\n",
    "    bar_base.mark_brush().encode(x=gos.X(linkingId='detail-2'))\n",
    ").properties(width=300, height=300)\n",
    "\n",
    "link = gos.Track(data=sv).mark_withinLink().encode(\n",
    "    x='p1s:G',\n",
    "    xe='p2e:G',\n",
    "    stroke=gos.Stroke('chr1:N', range=['steelblue']),\n",
    "    strokeWidth=gos.value(2),\n",
    "    opacity=gos.value(0.6)\n",
    ").properties(width=300, height=100)\n",
    "\n",
    "overview = gos.stack(bar_overview, link).properties(layout=\"circular\", spacing=1)\n",
    "\n",
    "overview"
   ]
  },
  {
   "cell_type": "code",
   "execution_count": null,
   "id": "6cb98e9b",
   "metadata": {},
   "outputs": [],
   "source": [
    "detail_1 = bar_base.encode(strokeWidth=gos.value(0)).properties(width=300, height=100).view(\n",
    "    linkingId='detail-1',\n",
    "    xDomain=gos.GenomicDomain(chromosome='3'),\n",
    ")\n",
    "\n",
    "detail_2 = bar_base.encode(strokeWidth=gos.value(0)).properties(width=300, height=100).view(\n",
    "    linkingId='detail-2',\n",
    "    xDomain=gos.GenomicDomain(chromosome='10'),\n",
    ")\n",
    "\n",
    "detail_view = gos.vertical(detail_1, detail_2).properties(spacing=20)\n",
    "detail_view"
   ]
  },
  {
   "cell_type": "markdown",
   "id": "ff32a2c5",
   "metadata": {},
   "source": [
    "# Compose Views"
   ]
  },
  {
   "cell_type": "code",
   "execution_count": null,
   "id": "0e1a635e",
   "metadata": {},
   "outputs": [],
   "source": [
    "gos.horizontal(overview, detail_view).properties(\n",
    "    title='Overview and Detail Views',\n",
    ")"
   ]
  },
  {
   "cell_type": "code",
   "execution_count": null,
   "id": "f92a5b77",
   "metadata": {},
   "outputs": [],
   "source": []
  }
 ],
 "metadata": {
  "kernelspec": {
   "display_name": "Python 3 (ipykernel)",
   "language": "python",
   "name": "python3"
  },
  "language_info": {
   "codemirror_mode": {
    "name": "ipython",
    "version": 3
   },
   "file_extension": ".py",
   "mimetype": "text/x-python",
   "name": "python",
   "nbconvert_exporter": "python",
   "pygments_lexer": "ipython3",
   "version": "3.9.7"
  }
 },
 "nbformat": 4,
 "nbformat_minor": 5
}
