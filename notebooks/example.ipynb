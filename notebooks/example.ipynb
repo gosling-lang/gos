{
 "cells": [
  {
   "cell_type": "code",
   "execution_count": 1,
   "id": "2a014a14-3d7c-4288-8534-df01d7bf2432",
   "metadata": {},
   "outputs": [],
   "source": [
    "import gosling as gos"
   ]
  },
  {
   "cell_type": "code",
   "execution_count": 2,
   "id": "61233841",
   "metadata": {},
   "outputs": [
    {
     "data": {
      "text/plain": [
       "Track({\n",
       "  color: Channel({\n",
       "    shorthand: 's1:N'\n",
       "  }),\n",
       "  data: DataDeep({\n",
       "    chromosomeField: 'c2',\n",
       "    genomicFields: ['s1', 'e1', 's2', 'e2'],\n",
       "    type: 'csv',\n",
       "    url: 'https://raw.githubusercontent.com/sehilyi/gemini-datasets/master/data/circos-segdup-edited.txt'\n",
       "  }),\n",
       "  height: 130,\n",
       "  mark: 'withinLink',\n",
       "  opacity: ChannelValue({\n",
       "    value: 0.2\n",
       "  }),\n",
       "  stroke: ChannelValue({\n",
       "    value: 'black'\n",
       "  }),\n",
       "  strokeWidth: ChannelValue({\n",
       "    value: 0.5\n",
       "  }),\n",
       "  width: 600,\n",
       "  x: Channel({\n",
       "    domain: Domain({\n",
       "      chromosome: '1',\n",
       "      interval: [103900000, 104100000]\n",
       "    }),\n",
       "    shorthand: 's1:G'\n",
       "  }),\n",
       "  x1: Channel({\n",
       "    domain: Domain({\n",
       "      chromosome: '1'\n",
       "    }),\n",
       "    shorthand: 's2:G'\n",
       "  }),\n",
       "  x1e: Channel({\n",
       "    shorthand: 'e2:G'\n",
       "  }),\n",
       "  xe: Channel({\n",
       "    shorthand: 'e1:G'\n",
       "  })\n",
       "})"
      ]
     },
     "execution_count": 2,
     "metadata": {},
     "output_type": "execute_result"
    }
   ],
   "source": [
    "csvData = gos.Data(\n",
    "    url=\"https://raw.githubusercontent.com/sehilyi/gemini-datasets/master/data/circos-segdup-edited.txt\",\n",
    "    type=\"csv\",\n",
    "    chromosomeField=\"c2\",\n",
    "    genomicFields=[\"s1\", \"e1\", \"s2\", \"e2\"],\n",
    ")\n",
    "\n",
    "track = gos.Track(data=csvData).mark_withinLink().encode(\n",
    "    x=gos.Channel(\"s1:G\", domain=gos.Domain(chromosome=\"1\", interval=[103900000, 104100000])),\n",
    "    xe=\"e1:G\",\n",
    "    x1=gos.Channel(\"s2:G\", domain=gos.Domain(chromosome=\"1\")),\n",
    "    x1e=\"e2:G\",\n",
    "    color=\"s1:N\",\n",
    "    stroke={\"value\": \"black\"},\n",
    "    strokeWidth={\"value\": 0.5},\n",
    "    opacity={\"value\": 0.2},\n",
    ").properties(width=600, height=130)\n",
    "\n",
    "# Create gosling Track\n",
    "track"
   ]
  },
  {
   "cell_type": "code",
   "execution_count": 3,
   "id": "88f3a522",
   "metadata": {
    "scrolled": true
   },
   "outputs": [
    {
     "data": {
      "application/javascript": [
       "\n",
       "const spec = {\"tracks\": [{\"data\": {\"url\": \"https://raw.githubusercontent.com/sehilyi/gemini-datasets/master/data/circos-segdup-edited.txt\", \"type\": \"csv\", \"chromosomeField\": \"c2\", \"genomicFields\": [\"s1\", \"e1\", \"s2\", \"e2\"]}, \"width\": 600, \"height\": 130, \"mark\": \"withinLink\", \"x\": {\"domain\": {\"chromosome\": \"1\", \"interval\": [103900000, 104100000]}, \"field\": \"s1\", \"type\": \"genomic\"}, \"xe\": {\"field\": \"e1\", \"type\": \"genomic\"}, \"x1\": {\"domain\": {\"chromosome\": \"1\"}, \"field\": \"s2\", \"type\": \"genomic\"}, \"x1e\": {\"field\": \"e2\", \"type\": \"genomic\"}, \"color\": {\"field\": \"s1\", \"type\": \"nominal\"}, \"stroke\": {\"value\": \"black\"}, \"strokeWidth\": {\"value\": 0.5}, \"opacity\": {\"value\": 0.2}}], \"title\": \"Basic Marks: Bar\", \"subtitle\": \"Tutorial Examples\"};\n",
       "const opt = {};\n",
       "const id = \"jupyter-gosling-675bc7f532a849b5a9587ec707e771ad\";\n",
       "\n",
       "const output_area = this;\n",
       "\n",
       "require([\"nbextensions/jupyter-gosling/index\"], function(gos) {\n",
       "  const target = document.createElement(\"div\");\n",
       "  target.id = id;\n",
       "  target.className = \"gosling-embed\";\n",
       "\n",
       "  // element is a jQuery wrapped DOM element inside the output area\n",
       "  // see http://ipython.readthedocs.io/en/stable/api/generated/  // IPython.display.html#IPython.display.Javascript.__init__\n",
       "  element[0].appendChild(target);\n",
       "\n",
       "  gos.render(\"#\" + id, spec, opt, output_area);\n",
       "}, (err) => {\n",
       "    if (err.requireType !== \"scripterror\") throw(err);\n",
       "});"
      ],
      "text/plain": [
       "View({\n",
       "  subtitle: 'Tutorial Examples',\n",
       "  title: 'Basic Marks: Bar',\n",
       "  tracks: [Track({\n",
       "    color: Channel({\n",
       "      field: 's1',\n",
       "      type: 'nominal'\n",
       "    }),\n",
       "    data: DataDeep({\n",
       "      chromosomeField: 'c2',\n",
       "      genomicFields: ['s1', 'e1', 's2', 'e2'],\n",
       "      type: 'csv',\n",
       "      url: 'https://raw.githubusercontent.com/sehilyi/gemini-datasets/master/data/circos-segdup-edited.txt'\n",
       "    }),\n",
       "    height: 130,\n",
       "    mark: 'withinLink',\n",
       "    opacity: ChannelValue({\n",
       "      value: 0.2\n",
       "    }),\n",
       "    stroke: ChannelValue({\n",
       "      value: 'black'\n",
       "    }),\n",
       "    strokeWidth: ChannelValue({\n",
       "      value: 0.5\n",
       "    }),\n",
       "    width: 600,\n",
       "    x: Channel({\n",
       "      domain: Domain({\n",
       "        chromosome: '1',\n",
       "        interval: [103900000, 104100000]\n",
       "      }),\n",
       "      field: 's1',\n",
       "      type: 'genomic'\n",
       "    }),\n",
       "    x1: Channel({\n",
       "      domain: Domain({\n",
       "        chromosome: '1'\n",
       "      }),\n",
       "      field: 's2',\n",
       "      type: 'genomic'\n",
       "    }),\n",
       "    x1e: Channel({\n",
       "      field: 'e2',\n",
       "      type: 'genomic'\n",
       "    }),\n",
       "    xe: Channel({\n",
       "      field: 'e1',\n",
       "      type: 'genomic'\n",
       "    })\n",
       "  })]\n",
       "})"
      ]
     },
     "execution_count": 3,
     "metadata": {
      "jupyter-gosling": "#jupyter-gosling-675bc7f532a849b5a9587ec707e771ad"
     },
     "output_type": "execute_result"
    },
    {
     "data": {
      "image/png": "[encoded data removed]"
     },
     "metadata": {
      "jupyter-gosling": "#jupyter-gosling-675bc7f532a849b5a9587ec707e771ad"
     },
     "output_type": "display_data"
    }
   ],
   "source": [
    "# just render a view (not a mutable object)\n",
    "track.view(title=\"Basic Marks: Bar\", subtitle=\"Tutorial Examples\")"
   ]
  },
  {
   "cell_type": "code",
   "execution_count": null,
   "id": "7a82cfcc",
   "metadata": {},
   "outputs": [],
   "source": []
  }
 ],
 "metadata": {
  "kernelspec": {
   "display_name": "Python 3 (ipykernel)",
   "language": "python",
   "name": "python3"
  },
  "language_info": {
   "codemirror_mode": {
    "name": "ipython",
    "version": 3
   },
   "file_extension": ".py",
   "mimetype": "text/x-python",
   "name": "python",
   "nbconvert_exporter": "python",
   "pygments_lexer": "ipython3",
   "version": "3.9.6"
  }
 },
 "nbformat": 4,
 "nbformat_minor": 5
}
