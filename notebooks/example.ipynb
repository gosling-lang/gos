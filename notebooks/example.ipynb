{
 "cells": [
  {
   "cell_type": "code",
   "execution_count": 10,
   "id": "635111c1",
   "metadata": {},
   "outputs": [],
   "source": [
    "import gosling as gos"
   ]
  },
  {
   "cell_type": "code",
   "execution_count": 11,
   "id": "61233841",
   "metadata": {},
   "outputs": [],
   "source": [
    "spec = gos.Root(\n",
    "    title=\"Basic Marks: Bar\",\n",
    "    subtitle=\"Tutorial Examples\",\n",
    "    tracks=[\n",
    "        gos.Track(\n",
    "          data=gos.CSVData(\n",
    "            url=\"https://raw.githubusercontent.com/sehilyi/gemini-datasets/master/data/circos-segdup-edited.txt\",\n",
    "            type=\"csv\",\n",
    "            chromosomeField=\"c2\",\n",
    "            genomicFields=[\"s1\", \"e1\", \"s2\", \"e2\"],\n",
    "          ),\n",
    "          mark=\"withinLink\",\n",
    "          x=gos.Channel(\n",
    "            field=\"s1\",\n",
    "            type=\"genomic\",\n",
    "            domain={\"chromosome\": \"1\", \"interval\": [103900000, 104100000]},\n",
    "          ),\n",
    "          xe=gos.Channel(field=\"e1\", type=\"genomic\"),\n",
    "          x1=gos.Channel(field=\"s2\", type=\"genomic\", domain={\"chromosome\": \"1\"}),\n",
    "          x1e=gos.Channel(field=\"e2\", type=\"genomic\"),\n",
    "          color=gos.Channel(field=\"s1\", type=\"nominal\"),\n",
    "          stroke={\"value\": \"black\"},\n",
    "          strokeWidth={\"value\": 0.5},\n",
    "          opacity={\"value\": 0.2},\n",
    "          width=600,\n",
    "          height=130\n",
    "        )\n",
    "    ]\n",
    ")"
   ]
  },
  {
   "cell_type": "code",
   "execution_count": 12,
   "id": "88f3a522",
   "metadata": {},
   "outputs": [
    {
     "data": {
      "application/javascript": [
       "const spec = {\n",
       "  \"subtitle\": \"Tutorial Examples\",\n",
       "  \"title\": \"Basic Marks: Bar\",\n",
       "  \"tracks\": [\n",
       "    {\n",
       "      \"color\": {\n",
       "        \"field\": \"s1\",\n",
       "        \"type\": \"nominal\"\n",
       "      },\n",
       "      \"data\": {\n",
       "        \"chromosomeField\": \"c2\",\n",
       "        \"genomicFields\": [\n",
       "          \"s1\",\n",
       "          \"e1\",\n",
       "          \"s2\",\n",
       "          \"e2\"\n",
       "        ],\n",
       "        \"type\": \"csv\",\n",
       "        \"url\": \"https://raw.githubusercontent.com/sehilyi/gemini-datasets/master/data/circos-segdup-edited.txt\"\n",
       "      },\n",
       "      \"height\": 130,\n",
       "      \"mark\": \"withinLink\",\n",
       "      \"opacity\": {\n",
       "        \"value\": 0.2\n",
       "      },\n",
       "      \"stroke\": {\n",
       "        \"value\": \"black\"\n",
       "      },\n",
       "      \"strokeWidth\": {\n",
       "        \"value\": 0.5\n",
       "      },\n",
       "      \"width\": 600,\n",
       "      \"x\": {\n",
       "        \"domain\": {\n",
       "          \"chromosome\": \"1\",\n",
       "          \"interval\": [\n",
       "            103900000,\n",
       "            104100000\n",
       "          ]\n",
       "        },\n",
       "        \"field\": \"s1\",\n",
       "        \"type\": \"genomic\"\n",
       "      },\n",
       "      \"x1\": {\n",
       "        \"domain\": {\n",
       "          \"chromosome\": \"1\"\n",
       "        },\n",
       "        \"field\": \"s2\",\n",
       "        \"type\": \"genomic\"\n",
       "      },\n",
       "      \"x1e\": {\n",
       "        \"field\": \"e2\",\n",
       "        \"type\": \"genomic\"\n",
       "      },\n",
       "      \"xe\": {\n",
       "        \"field\": \"e1\",\n",
       "        \"type\": \"genomic\"\n",
       "      }\n",
       "    }\n",
       "  ]\n",
       "};\n",
       "const opt = null;\n",
       "const id = \"108232a5-da12-473e-a77f-da50345135ff\";\n",
       "\n",
       "const output_area = this;\n",
       "\n",
       "require([\"nbextensions/jupyter-gosling/index\"], function(gos) {\n",
       "\tconst target = document.createElement(\"div\");\n",
       "\ttarget.id = id;\n",
       "\ttarget.className = \"gosling-embed\";\n",
       "\n",
       "\t// element is a jQuery wrapped DOM element inside the output area\n",
       "\t// see http://ipython.readthedocs.io/en/stable/api/generated/\\\n",
       "\t// IPython.display.html#IPython.display.Javascript.__init__\n",
       "\telement[0].appendChild(target);\n",
       "\tgos.render(\"#\" + id, spec, opt, output_area);\n",
       "}, (err) => {\n",
       "\tif (err.requireType !== \"scripterror\") throw(err);\n",
       "});\n"
      ],
      "text/plain": [
       "render(spec=Root({\n",
       "  subtitle: 'Tutorial Examples',\n",
       "  title: 'Basic Marks: Bar',\n",
       "  tracks: [Track({\n",
       "    color: Channel({\n",
       "      field: 's1',\n",
       "      type: 'nominal'\n",
       "    }),\n",
       "    data: CSVData({\n",
       "      chromosomeField: 'c2',\n",
       "      genomicFields: ['s1', 'e1', 's2', 'e2'],\n",
       "      type: 'csv',\n",
       "      url: 'https://raw.githubusercontent.com/sehilyi/gemini-datasets/master/data/circos-segdup-edited.txt'\n",
       "    }),\n",
       "    height: 130,\n",
       "    mark: 'withinLink',\n",
       "    opacity: {'value': 0.2},\n",
       "    stroke: {'value': 'black'},\n",
       "    strokeWidth: {'value': 0.5},\n",
       "    width: 600,\n",
       "    x: Channel({\n",
       "      domain: {'chromosome': '1', 'interval': [103900000, 104100000]},\n",
       "      field: 's1',\n",
       "      type: 'genomic'\n",
       "    }),\n",
       "    x1: Channel({\n",
       "      domain: {'chromosome': '1'},\n",
       "      field: 's2',\n",
       "      type: 'genomic'\n",
       "    }),\n",
       "    x1e: Channel({\n",
       "      field: 'e2',\n",
       "      type: 'genomic'\n",
       "    }),\n",
       "    xe: Channel({\n",
       "      field: 'e1',\n",
       "      type: 'genomic'\n",
       "    })\n",
       "  })]\n",
       "}), opt=None)"
      ]
     },
     "execution_count": 12,
     "metadata": {
      "jupyter-gosling": "#108232a5-da12-473e-a77f-da50345135ff"
     },
     "output_type": "execute_result"
    },
    {
     "data": {
      "image/png": "[encoded data removed]"
     },
     "metadata": {
      "jupyter-gosling": "#108232a5-da12-473e-a77f-da50345135ff"
     },
     "output_type": "display_data"
    }
   ],
   "source": [
    "# just render a chart (not a mutable object)\n",
    "gos.render(spec)"
   ]
  },
  {
   "cell_type": "code",
   "execution_count": 13,
   "id": "25187068",
   "metadata": {},
   "outputs": [
    {
     "data": {
      "application/vnd.jupyter.widget-view+json": {
       "model_id": "d7fa8cca40784db88359b5144143a960",
       "version_major": 2,
       "version_minor": 0
      },
      "text/plain": [
       "GoslingWidget()"
      ]
     },
     "metadata": {},
     "output_type": "display_data"
    }
   ],
   "source": [
    "# create reactive widget\n",
    "widget = gos.GoslingWidget(spec)\n",
    "widget"
   ]
  },
  {
   "cell_type": "code",
   "execution_count": 6,
   "id": "a120fab0",
   "metadata": {},
   "outputs": [],
   "source": [
    "# replace spec\n",
    "spec2 = gos.Root(\n",
    "    title=\"Basic Marks: Bar\",\n",
    "    subtitle=\"Tutorial Examples\",\n",
    "    tracks=[\n",
    "        gos.Track(\n",
    "          data=gos.CSVData(\n",
    "            url=\"https://raw.githubusercontent.com/sehilyi/gemini-datasets/master/data/circos-segdup-edited.txt\",\n",
    "            type=\"csv\",\n",
    "            chromosomeField=\"c2\",\n",
    "            genomicFields=[\"s1\", \"e1\", \"s2\", \"e2\"],\n",
    "          ),\n",
    "          mark=\"withinLink\",\n",
    "          x=gos.Channel(field=\"s1\", type=\"genomic\"),\n",
    "          xe=gos.Channel(field=\"e1\", type=\"genomic\"),\n",
    "          x1=gos.Channel(field=\"s2\", type=\"genomic\", domain={\"chromosome\": \"1\"}),\n",
    "          x1e=gos.Channel(field=\"e2\", type=\"genomic\"),\n",
    "          color=gos.Channel(field=\"s1\", type=\"nominal\"),\n",
    "          stroke={\"value\": \"blue\"},\n",
    "          strokeWidth={\"value\": 5},\n",
    "          opacity={\"value\": 0.2},\n",
    "          width=600,\n",
    "          height=400\n",
    "        )\n",
    "    ]\n",
    ")\n",
    "widget.spec = spec2"
   ]
  },
  {
   "cell_type": "code",
   "execution_count": null,
   "id": "e8902326",
   "metadata": {},
   "outputs": [],
   "source": []
  }
 ],
 "metadata": {
  "kernelspec": {
   "display_name": "Python 3",
   "language": "python",
   "name": "python3"
  },
  "language_info": {
   "codemirror_mode": {
    "name": "ipython",
    "version": 3
   },
   "file_extension": ".py",
   "mimetype": "text/x-python",
   "name": "python",
   "nbconvert_exporter": "python",
   "pygments_lexer": "ipython3",
   "version": "3.9.5"
  }
 },
 "nbformat": 4,
 "nbformat_minor": 5
}
