{
 "cells": [
  {
   "cell_type": "code",
   "execution_count": null,
   "id": "2a014a14-3d7c-4288-8534-df01d7bf2432",
   "metadata": {},
   "outputs": [],
   "source": [
    "import gosling as gos"
   ]
  },
  {
   "cell_type": "code",
   "execution_count": null,
   "id": "61233841",
   "metadata": {},
   "outputs": [],
   "source": [
    "csvData = gos.csv(\n",
    "    url=\"https://raw.githubusercontent.com/sehilyi/gemini-datasets/master/data/circos-segdup-edited.txt\",\n",
    "    chromosomeField=\"c2\",\n",
    "    genomicFields=[\"s1\", \"e1\", \"s2\", \"e2\"],\n",
    ")\n",
    "\n",
    "track = gos.Track(data=csvData).mark_withinLink().encode(\n",
    "    x=gos.X(\"s1:G\", domain=gos.GenomicDomain(chromosome=\"1\", interval=[103900000, 104100000])),\n",
    "    xe=\"e1:G\",\n",
    "    x1=gos.X1(\"s2:G\", domain=gos.GenomicDomain(chromosome=\"1\")),\n",
    "    x1e=\"e2:G\",\n",
    "    color=\"s1:N\",\n",
    "    stroke=gos.value(\"black\"),\n",
    "    strokeWidth=gos.value(0.5),\n",
    "    opacity=gos.value(0.2),\n",
    ").properties(width=600, height=130)\n",
    "\n",
    "# Create gosling Track\n",
    "track"
   ]
  },
  {
   "cell_type": "code",
   "execution_count": null,
   "id": "88f3a522",
   "metadata": {},
   "outputs": [],
   "source": [
    "# just render a view (not a mutable object)\n",
    "view = track.view(title=\"Basic Marks: Bar\", subtitle=\"Tutorial Examples\", id=\"aa\")\n",
    "w = view.widget()\n",
    "w"
   ]
  },
  {
   "cell_type": "code",
   "execution_count": null,
   "id": "7a82cfcc",
   "metadata": {},
   "outputs": [],
   "source": [
    "view.id"
   ]
  },
  {
   "cell_type": "code",
   "execution_count": null,
   "id": "05d7ecf9-d336-4daa-8d49-447d062f7236",
   "metadata": {},
   "outputs": [],
   "source": []
  }
 ],
 "metadata": {
  "kernelspec": {
   "display_name": "Python 3 (ipykernel)",
   "language": "python",
   "name": "python3"
  },
  "language_info": {
   "codemirror_mode": {
    "name": "ipython",
    "version": 3
   },
   "file_extension": ".py",
   "mimetype": "text/x-python",
   "name": "python",
   "nbconvert_exporter": "python",
   "pygments_lexer": "ipython3",
   "version": "3.12.7"
  }
 },
 "nbformat": 4,
 "nbformat_minor": 5
}
